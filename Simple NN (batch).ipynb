{
 "cells": [
  {
   "cell_type": "code",
   "execution_count": 1,
   "metadata": {},
   "outputs": [],
   "source": [
    "import numpy as np"
   ]
  },
  {
   "cell_type": "markdown",
   "metadata": {},
   "source": [
    "First we define our activation function and its derivative"
   ]
  },
  {
   "cell_type": "code",
   "execution_count": 2,
   "metadata": {},
   "outputs": [],
   "source": [
    "def sigmoid(x):\n",
    "    return 1/(1+np.exp(-x))"
   ]
  },
  {
   "cell_type": "code",
   "execution_count": 3,
   "metadata": {},
   "outputs": [],
   "source": [
    "def sigmoid_der(x):\n",
    "    return x*(1-x)"
   ]
  },
  {
   "cell_type": "markdown",
   "metadata": {},
   "source": [
    "The training function"
   ]
  },
  {
   "cell_type": "code",
   "execution_count": 4,
   "metadata": {},
   "outputs": [],
   "source": [
    "def train_NN(x,y):\n",
    "    weights = np.arange(x.shape[1],dtype=np.float)\n",
    "    weights.fill(0.1)\n",
    "    weights = weights.reshape(x.shape[1],1)\n",
    "    \n",
    "    for iter in range(10000):\n",
    "        l1 = sigmoid(np.dot(x,weights))\n",
    "        err = y - l1\n",
    "        delta = err * sigmoid_der(l1)\n",
    "        weights += np.dot(x.T,delta)\n",
    "        \n",
    "    return weights\n"
   ]
  },
  {
   "cell_type": "markdown",
   "metadata": {},
   "source": [
    "And the predict function"
   ]
  },
  {
   "cell_type": "code",
   "execution_count": 5,
   "metadata": {},
   "outputs": [],
   "source": [
    "def predict(vals,weights):\n",
    "    return sigmoid(np.dot(vals,weights))"
   ]
  },
  {
   "cell_type": "markdown",
   "metadata": {},
   "source": [
    "Simple test"
   ]
  },
  {
   "cell_type": "code",
   "execution_count": 6,
   "metadata": {},
   "outputs": [],
   "source": [
    "x = np.array([  [0.2, 0.4, 0.9],\n",
    "                [0.9, 0.2, 0.6],\n",
    "                [0.3, 0.8, 0.3],\n",
    "                [0.4, 0.3, 0.1] ])\n",
    "\n",
    "\n",
    "y = np.array([[0.2],\n",
    "              [0.4],\n",
    "              [0.5],\n",
    "              [0.5]])\n",
    "\n",
    "w = train_NN(x,y)"
   ]
  },
  {
   "cell_type": "code",
   "execution_count": 7,
   "metadata": {},
   "outputs": [
    {
     "data": {
      "text/plain": [
       "array([[ 0.54576717],\n",
       "       [ 0.35881297],\n",
       "       [-1.71705122]])"
      ]
     },
     "execution_count": 7,
     "metadata": {},
     "output_type": "execute_result"
    }
   ],
   "source": [
    "w"
   ]
  },
  {
   "cell_type": "markdown",
   "metadata": {},
   "source": [
    "Test our weights"
   ]
  },
  {
   "cell_type": "code",
   "execution_count": 8,
   "metadata": {},
   "outputs": [
    {
     "name": "stdout",
     "output_type": "stream",
     "text": [
      "[0.21540166]\n",
      "[0.38526078]\n",
      "[0.48392184]\n",
      "[0.53848514]\n"
     ]
    }
   ],
   "source": [
    "for i in range(4):\n",
    "    print(predict(x[i],w))"
   ]
  },
  {
   "cell_type": "code",
   "execution_count": 9,
   "metadata": {},
   "outputs": [
    {
     "data": {
      "text/plain": [
       "array([0.45939765])"
      ]
     },
     "execution_count": 9,
     "metadata": {},
     "output_type": "execute_result"
    }
   ],
   "source": [
    "predict(np.array([0.5,0.7,0.4]),w)"
   ]
  },
  {
   "cell_type": "markdown",
   "metadata": {},
   "source": [
    "# Or operation"
   ]
  },
  {
   "cell_type": "code",
   "execution_count": 11,
   "metadata": {},
   "outputs": [],
   "source": [
    "x1 = np.array([ [0, 0],\n",
    "                [0, 1],\n",
    "                [1, 0],\n",
    "                [1, 1] ])\n",
    "\n",
    "y1 = np.array([[0],\n",
    "               [1],\n",
    "               [1],\n",
    "               [1]])\n",
    "w = train_NN(x1,y1)"
   ]
  },
  {
   "cell_type": "code",
   "execution_count": 12,
   "metadata": {},
   "outputs": [
    {
     "data": {
      "text/plain": [
       "array([[4.93068387],\n",
       "       [4.93068387]])"
      ]
     },
     "execution_count": 12,
     "metadata": {},
     "output_type": "execute_result"
    }
   ],
   "source": [
    "w"
   ]
  },
  {
   "cell_type": "code",
   "execution_count": 13,
   "metadata": {},
   "outputs": [
    {
     "name": "stdout",
     "output_type": "stream",
     "text": [
      "[0.5]\n",
      "[0.99283021]\n",
      "[0.99283021]\n",
      "[0.99994785]\n"
     ]
    }
   ],
   "source": [
    "for i in range(4):\n",
    "    print(predict(x1[i],w))"
   ]
  },
  {
   "cell_type": "markdown",
   "metadata": {},
   "source": [
    "We can see that the first observation has a big error (50%)<br>\n",
    "The problem is that the inputs are 0 so:<br>\n",
    "W1 * 0 + W2 * 0 = 0 for any Wi<br>\n",
    "sigmoid(0) = 0.5<br>\n",
    "We cant train the net for that obs."
   ]
  },
  {
   "cell_type": "markdown",
   "metadata": {},
   "source": [
    "# adding bias"
   ]
  },
  {
   "cell_type": "code",
   "execution_count": 14,
   "metadata": {},
   "outputs": [],
   "source": [
    "x2 = np.array([ [0, 0, 1],\n",
    "                [0, 1, 1],\n",
    "                [1, 0, 1],\n",
    "                [1, 1, 1] ])\n",
    "\n",
    "y2 = np.array([[0],\n",
    "               [1],\n",
    "               [1],\n",
    "               [1]])\n",
    "\n",
    "w = train_NN(x2,y2)"
   ]
  },
  {
   "cell_type": "code",
   "execution_count": 15,
   "metadata": {},
   "outputs": [
    {
     "name": "stdout",
     "output_type": "stream",
     "text": [
      "[0.01628075]\n",
      "[0.9897395]\n",
      "[0.9897395]\n",
      "[0.99999822]\n"
     ]
    }
   ],
   "source": [
    "for i in range(4):\n",
    "    print(predict(x2[i],w))"
   ]
  },
  {
   "cell_type": "markdown",
   "metadata": {},
   "source": [
    "# XOR "
   ]
  },
  {
   "cell_type": "code",
   "execution_count": 16,
   "metadata": {},
   "outputs": [],
   "source": [
    "x2 = np.array([ [0, 0, 1],\n",
    "                [0, 1, 1],\n",
    "                [1, 0, 1],\n",
    "                [1, 1, 1] ])\n",
    "\n",
    "y2 = np.array([[0],\n",
    "               [1],\n",
    "               [1],\n",
    "               [0]])\n",
    "\n",
    "w = train_NN(x2,y2)"
   ]
  },
  {
   "cell_type": "code",
   "execution_count": 17,
   "metadata": {},
   "outputs": [
    {
     "data": {
      "text/plain": [
       "array([[ 2.22044605e-16],\n",
       "       [ 2.22044605e-16],\n",
       "       [-3.05311332e-16]])"
      ]
     },
     "execution_count": 17,
     "metadata": {},
     "output_type": "execute_result"
    }
   ],
   "source": [
    "w"
   ]
  },
  {
   "cell_type": "code",
   "execution_count": 18,
   "metadata": {},
   "outputs": [
    {
     "name": "stdout",
     "output_type": "stream",
     "text": [
      "[0.5]\n",
      "[0.5]\n",
      "[0.5]\n",
      "[0.5]\n"
     ]
    }
   ],
   "source": [
    "for i in range(4):\n",
    "    print(predict(x2[i],w))"
   ]
  },
  {
   "cell_type": "markdown",
   "metadata": {},
   "source": [
    "One neuron => Linear function and XOR is not linear so we cant solve it without an hidden layer"
   ]
  },
  {
   "cell_type": "code",
   "execution_count": null,
   "metadata": {},
   "outputs": [],
   "source": []
  }
 ],
 "metadata": {
  "kernelspec": {
   "display_name": "Python 3",
   "language": "python",
   "name": "python3"
  },
  "language_info": {
   "codemirror_mode": {
    "name": "ipython",
    "version": 3
   },
   "file_extension": ".py",
   "mimetype": "text/x-python",
   "name": "python",
   "nbconvert_exporter": "python",
   "pygments_lexer": "ipython3",
   "version": "3.6.4"
  }
 },
 "nbformat": 4,
 "nbformat_minor": 2
}
